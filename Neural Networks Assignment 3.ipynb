{
 "cells": [
  {
   "cell_type": "code",
   "execution_count": 6,
   "id": "e374da7d",
   "metadata": {},
   "outputs": [
    {
     "name": "stdout",
     "output_type": "stream",
     "text": [
      "Average Salary of Employees: $55000.0\n",
      "Total Number of Employees: 3\n",
      "Priya works in the CEO department and earns $70000 per year.\n"
     ]
    }
   ],
   "source": [
    "class Employee:\n",
    "    # Class variable to count the number of Employees\n",
    "    employee_count = 0\n",
    "\n",
    "    def __init__(self, name, family, salary, department):\n",
    "        # Instance variables\n",
    "        self.name = name\n",
    "        self.family = family\n",
    "        self.salary = salary\n",
    "        self.department = department\n",
    "        # Increment the employee count when a new instance is created\n",
    "        Employee.employee_count += 1\n",
    "\n",
    "    def average_salary(self, *salaries):\n",
    "        # Calculate and return the average salary\n",
    "        return sum(salaries) / len(salaries)\n",
    "\n",
    "class FulltimeEmployee(Employee):\n",
    "    # Inheriting properties from the Employee class\n",
    "\n",
    "    def __init__(self, name, family, salary, department, hours_worked):\n",
    "        # Calling the constructor of the parent class\n",
    "        super().__init__(name, family, salary, department)\n",
    "        self.hours_worked = hours_worked\n",
    "\n",
    "# Creating instances of Employee class\n",
    "employee1 = Employee(\"Chid\", \"Family1\", 50000, \"Team Lead\")\n",
    "employee2 = Employee(\"Sowjanya\", \"Family2\", 60000, \"Manager\")\n",
    "\n",
    "# Creating instances of FulltimeEmployee class\n",
    "fulltime_employee = FulltimeEmployee(\"Priya\", \"Family3\", 70000, \"CEO\", 40)\n",
    "\n",
    "# Calling member functions\n",
    "average_salary = employee1.average_salary(employee1.salary, employee2.salary)\n",
    "print(f\"Average Salary of Employees: ${average_salary}\")\n",
    "\n",
    "print(f\"Total Number of Employees: {Employee.employee_count}\")\n",
    "\n",
    "# Accessing properties of FulltimeEmployee class\n",
    "print(f\"{fulltime_employee.name} works in the {fulltime_employee.department} department and earns ${fulltime_employee.salary} per year.\")\n"
   ]
  },
  {
   "cell_type": "code",
   "execution_count": 8,
   "id": "cbcd7534",
   "metadata": {},
   "outputs": [
    {
     "name": "stdout",
     "output_type": "stream",
     "text": [
      "Random Vector:\n",
      "[ 6.76319763  4.11724778  0.          6.65285184  5.95431245  4.34313063\n",
      " 15.5891919   5.29642248  0.         12.58197722  4.80076915  0.\n",
      "  1.42451033  7.57321011  7.07966432 12.54780825 12.6708516   0.\n",
      " 13.02029146  6.24914325]\n",
      "\n",
      "Reshaped Array (4x5):\n",
      "[[ 6.76319763  4.11724778  0.          6.65285184  5.95431245]\n",
      " [ 4.34313063 15.5891919   5.29642248  0.         12.58197722]\n",
      " [ 4.80076915  0.          1.42451033  7.57321011  7.07966432]\n",
      " [12.54780825 12.6708516   0.         13.02029146  6.24914325]]\n"
     ]
    }
   ],
   "source": [
    "import numpy as np\n",
    "\n",
    "# Create a random vector of size 20 with float values in the range 1-20\n",
    "random_vector = np.random.uniform(1, 20, 20)\n",
    "\n",
    "# Reshape the array to a 4x5 matrix\n",
    "reshaped_array = random_vector.reshape((4, 5))\n",
    "\n",
    "# Replace the max value in each row with 0 along axis=1\n",
    "reshaped_array[np.arange(len(reshaped_array)), reshaped_array.argmax(axis=1)] = 0\n",
    "\n",
    "print(\"Random Vector:\")\n",
    "print(random_vector)\n",
    "print(\"\\nReshaped Array (4x5):\")\n",
    "print(reshaped_array)"
   ]
  },
  {
   "cell_type": "code",
   "execution_count": null,
   "id": "744b59f3",
   "metadata": {},
   "outputs": [],
   "source": []
  }
 ],
 "metadata": {
  "kernelspec": {
   "display_name": "Python 3 (ipykernel)",
   "language": "python",
   "name": "python3"
  },
  "language_info": {
   "codemirror_mode": {
    "name": "ipython",
    "version": 3
   },
   "file_extension": ".py",
   "mimetype": "text/x-python",
   "name": "python",
   "nbconvert_exporter": "python",
   "pygments_lexer": "ipython3",
   "version": "3.11.4"
  }
 },
 "nbformat": 4,
 "nbformat_minor": 5
}
